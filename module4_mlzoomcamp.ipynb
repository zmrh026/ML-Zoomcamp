{
 "cells": [
  {
   "cell_type": "code",
   "execution_count": 1,
   "id": "f75a98bf-d4ea-4a47-a0d6-2153202d15a9",
   "metadata": {},
   "outputs": [],
   "source": [
    "import numpy as np\n",
    "import pandas as pd\n",
    "import matplotlib.pyplot as plt"
   ]
  },
  {
   "cell_type": "code",
   "execution_count": 2,
   "id": "1d4e388b-8f43-497a-a1dc-036dbbd76859",
   "metadata": {},
   "outputs": [],
   "source": [
    "from sklearn.model_selection import train_test_split, KFold\n",
    "from sklearn.feature_extraction import DictVectorizer\n",
    "from sklearn.linear_model import LogisticRegression\n",
    "from sklearn.metrics import roc_auc_score, precision_score, recall_score"
   ]
  },
  {
   "cell_type": "code",
   "execution_count": 3,
   "id": "9755a00c-c8ad-4e1f-a8cd-f4c8e59eb35d",
   "metadata": {
    "scrolled": true
   },
   "outputs": [
    {
     "data": {
      "text/html": [
       "<div>\n",
       "<style scoped>\n",
       "    .dataframe tbody tr th:only-of-type {\n",
       "        vertical-align: middle;\n",
       "    }\n",
       "\n",
       "    .dataframe tbody tr th {\n",
       "        vertical-align: top;\n",
       "    }\n",
       "\n",
       "    .dataframe thead th {\n",
       "        text-align: right;\n",
       "    }\n",
       "</style>\n",
       "<table border=\"1\" class=\"dataframe\">\n",
       "  <thead>\n",
       "    <tr style=\"text-align: right;\">\n",
       "      <th></th>\n",
       "      <th>lead_source</th>\n",
       "      <th>industry</th>\n",
       "      <th>number_of_courses_viewed</th>\n",
       "      <th>annual_income</th>\n",
       "      <th>employment_status</th>\n",
       "      <th>location</th>\n",
       "      <th>interaction_count</th>\n",
       "      <th>lead_score</th>\n",
       "      <th>converted</th>\n",
       "    </tr>\n",
       "  </thead>\n",
       "  <tbody>\n",
       "    <tr>\n",
       "      <th>0</th>\n",
       "      <td>paid_ads</td>\n",
       "      <td>NaN</td>\n",
       "      <td>1</td>\n",
       "      <td>79450.0</td>\n",
       "      <td>unemployed</td>\n",
       "      <td>south_america</td>\n",
       "      <td>4</td>\n",
       "      <td>0.94</td>\n",
       "      <td>1</td>\n",
       "    </tr>\n",
       "    <tr>\n",
       "      <th>1</th>\n",
       "      <td>social_media</td>\n",
       "      <td>retail</td>\n",
       "      <td>1</td>\n",
       "      <td>46992.0</td>\n",
       "      <td>employed</td>\n",
       "      <td>south_america</td>\n",
       "      <td>1</td>\n",
       "      <td>0.80</td>\n",
       "      <td>0</td>\n",
       "    </tr>\n",
       "    <tr>\n",
       "      <th>2</th>\n",
       "      <td>events</td>\n",
       "      <td>healthcare</td>\n",
       "      <td>5</td>\n",
       "      <td>78796.0</td>\n",
       "      <td>unemployed</td>\n",
       "      <td>australia</td>\n",
       "      <td>3</td>\n",
       "      <td>0.69</td>\n",
       "      <td>1</td>\n",
       "    </tr>\n",
       "    <tr>\n",
       "      <th>3</th>\n",
       "      <td>paid_ads</td>\n",
       "      <td>retail</td>\n",
       "      <td>2</td>\n",
       "      <td>83843.0</td>\n",
       "      <td>NaN</td>\n",
       "      <td>australia</td>\n",
       "      <td>1</td>\n",
       "      <td>0.87</td>\n",
       "      <td>0</td>\n",
       "    </tr>\n",
       "    <tr>\n",
       "      <th>4</th>\n",
       "      <td>referral</td>\n",
       "      <td>education</td>\n",
       "      <td>3</td>\n",
       "      <td>85012.0</td>\n",
       "      <td>self_employed</td>\n",
       "      <td>europe</td>\n",
       "      <td>3</td>\n",
       "      <td>0.62</td>\n",
       "      <td>1</td>\n",
       "    </tr>\n",
       "    <tr>\n",
       "      <th>...</th>\n",
       "      <td>...</td>\n",
       "      <td>...</td>\n",
       "      <td>...</td>\n",
       "      <td>...</td>\n",
       "      <td>...</td>\n",
       "      <td>...</td>\n",
       "      <td>...</td>\n",
       "      <td>...</td>\n",
       "      <td>...</td>\n",
       "    </tr>\n",
       "    <tr>\n",
       "      <th>1457</th>\n",
       "      <td>referral</td>\n",
       "      <td>manufacturing</td>\n",
       "      <td>1</td>\n",
       "      <td>NaN</td>\n",
       "      <td>self_employed</td>\n",
       "      <td>north_america</td>\n",
       "      <td>4</td>\n",
       "      <td>0.53</td>\n",
       "      <td>1</td>\n",
       "    </tr>\n",
       "    <tr>\n",
       "      <th>1458</th>\n",
       "      <td>referral</td>\n",
       "      <td>technology</td>\n",
       "      <td>3</td>\n",
       "      <td>65259.0</td>\n",
       "      <td>student</td>\n",
       "      <td>europe</td>\n",
       "      <td>2</td>\n",
       "      <td>0.24</td>\n",
       "      <td>1</td>\n",
       "    </tr>\n",
       "    <tr>\n",
       "      <th>1459</th>\n",
       "      <td>paid_ads</td>\n",
       "      <td>technology</td>\n",
       "      <td>1</td>\n",
       "      <td>45688.0</td>\n",
       "      <td>student</td>\n",
       "      <td>north_america</td>\n",
       "      <td>3</td>\n",
       "      <td>0.02</td>\n",
       "      <td>1</td>\n",
       "    </tr>\n",
       "    <tr>\n",
       "      <th>1460</th>\n",
       "      <td>referral</td>\n",
       "      <td>NaN</td>\n",
       "      <td>5</td>\n",
       "      <td>71016.0</td>\n",
       "      <td>self_employed</td>\n",
       "      <td>north_america</td>\n",
       "      <td>0</td>\n",
       "      <td>0.25</td>\n",
       "      <td>1</td>\n",
       "    </tr>\n",
       "    <tr>\n",
       "      <th>1461</th>\n",
       "      <td>organic_search</td>\n",
       "      <td>finance</td>\n",
       "      <td>3</td>\n",
       "      <td>92855.0</td>\n",
       "      <td>student</td>\n",
       "      <td>north_america</td>\n",
       "      <td>3</td>\n",
       "      <td>0.41</td>\n",
       "      <td>1</td>\n",
       "    </tr>\n",
       "  </tbody>\n",
       "</table>\n",
       "<p>1462 rows × 9 columns</p>\n",
       "</div>"
      ],
      "text/plain": [
       "         lead_source       industry  number_of_courses_viewed  annual_income  \\\n",
       "0           paid_ads            NaN                         1        79450.0   \n",
       "1       social_media         retail                         1        46992.0   \n",
       "2             events     healthcare                         5        78796.0   \n",
       "3           paid_ads         retail                         2        83843.0   \n",
       "4           referral      education                         3        85012.0   \n",
       "...              ...            ...                       ...            ...   \n",
       "1457        referral  manufacturing                         1            NaN   \n",
       "1458        referral     technology                         3        65259.0   \n",
       "1459        paid_ads     technology                         1        45688.0   \n",
       "1460        referral            NaN                         5        71016.0   \n",
       "1461  organic_search        finance                         3        92855.0   \n",
       "\n",
       "     employment_status       location  interaction_count  lead_score  \\\n",
       "0           unemployed  south_america                  4        0.94   \n",
       "1             employed  south_america                  1        0.80   \n",
       "2           unemployed      australia                  3        0.69   \n",
       "3                  NaN      australia                  1        0.87   \n",
       "4        self_employed         europe                  3        0.62   \n",
       "...                ...            ...                ...         ...   \n",
       "1457     self_employed  north_america                  4        0.53   \n",
       "1458           student         europe                  2        0.24   \n",
       "1459           student  north_america                  3        0.02   \n",
       "1460     self_employed  north_america                  0        0.25   \n",
       "1461           student  north_america                  3        0.41   \n",
       "\n",
       "      converted  \n",
       "0             1  \n",
       "1             0  \n",
       "2             1  \n",
       "3             0  \n",
       "4             1  \n",
       "...         ...  \n",
       "1457          1  \n",
       "1458          1  \n",
       "1459          1  \n",
       "1460          1  \n",
       "1461          1  \n",
       "\n",
       "[1462 rows x 9 columns]"
      ]
     },
     "execution_count": 3,
     "metadata": {},
     "output_type": "execute_result"
    }
   ],
   "source": [
    "url = \"https://raw.githubusercontent.com/alexeygrigorev/datasets/master/course_lead_scoring.csv\"\n",
    "df = pd.read_csv(url)\n",
    "df"
   ]
  },
  {
   "cell_type": "code",
   "execution_count": 4,
   "id": "8869c9df-05ef-4672-b5e7-444ab7898b88",
   "metadata": {},
   "outputs": [
    {
     "data": {
      "text/plain": [
       "lead_source                  object\n",
       "industry                     object\n",
       "number_of_courses_viewed      int64\n",
       "annual_income               float64\n",
       "employment_status            object\n",
       "location                     object\n",
       "interaction_count             int64\n",
       "lead_score                  float64\n",
       "converted                     int64\n",
       "dtype: object"
      ]
     },
     "execution_count": 4,
     "metadata": {},
     "output_type": "execute_result"
    }
   ],
   "source": [
    "df.dtypes"
   ]
  },
  {
   "cell_type": "code",
   "execution_count": 5,
   "id": "9fa3fb2b-bc76-446a-ac88-dbd097c7e922",
   "metadata": {},
   "outputs": [
    {
     "data": {
      "text/plain": [
       "lead_source                 128\n",
       "industry                    134\n",
       "number_of_courses_viewed      0\n",
       "annual_income               181\n",
       "employment_status           100\n",
       "location                     63\n",
       "interaction_count             0\n",
       "lead_score                    0\n",
       "converted                     0\n",
       "dtype: int64"
      ]
     },
     "execution_count": 5,
     "metadata": {},
     "output_type": "execute_result"
    }
   ],
   "source": [
    "df.isnull().sum()"
   ]
  },
  {
   "cell_type": "code",
   "execution_count": 6,
   "id": "9dfc0eea-fa0e-4c9c-81ce-e64309606b86",
   "metadata": {},
   "outputs": [],
   "source": [
    "df.columns = df.columns.str.lower().str.replace(' ', '_')"
   ]
  },
  {
   "cell_type": "code",
   "execution_count": 7,
   "id": "8175e2b8-86e0-4089-aa36-ab1eb1948356",
   "metadata": {},
   "outputs": [],
   "source": [
    "categorical_cols = df.select_dtypes('object').columns.tolist()\n",
    "numerical_cols = [c for c in df.columns if c not in categorical_cols + ['converted']]"
   ]
  },
  {
   "cell_type": "code",
   "execution_count": 8,
   "id": "53888ef3-06fc-4e5f-a166-a89028398174",
   "metadata": {},
   "outputs": [],
   "source": [
    "df[categorical_cols] = df[categorical_cols].fillna('NA')\n",
    "df[numerical_cols] = df[numerical_cols].apply(pd.to_numeric, errors='coerce').fillna(0.0)\n",
    "df['converted'] = df['converted'].astype(int)"
   ]
  },
  {
   "cell_type": "code",
   "execution_count": 9,
   "id": "77386205-eae6-4c1f-bbd3-06f2c0166694",
   "metadata": {},
   "outputs": [
    {
     "data": {
      "text/plain": [
       "lead_source                 0\n",
       "industry                    0\n",
       "number_of_courses_viewed    0\n",
       "annual_income               0\n",
       "employment_status           0\n",
       "location                    0\n",
       "interaction_count           0\n",
       "lead_score                  0\n",
       "converted                   0\n",
       "dtype: int64"
      ]
     },
     "execution_count": 9,
     "metadata": {},
     "output_type": "execute_result"
    }
   ],
   "source": [
    "df.isnull().sum()"
   ]
  },
  {
   "cell_type": "code",
   "execution_count": 10,
   "id": "ae55225a-ae62-489e-b297-064c10145e11",
   "metadata": {},
   "outputs": [],
   "source": [
    "df_full_train, df_test = train_test_split(df, test_size=0.2, stratify=df['converted'], random_state=1)\n",
    "df_train, df_val = train_test_split(df_full_train, test_size=0.25, stratify=df_full_train['converted'], random_state=1)"
   ]
  },
  {
   "cell_type": "code",
   "execution_count": 11,
   "id": "b83db4e3-ef42-4d3a-861d-c6997721bee5",
   "metadata": {},
   "outputs": [
    {
     "name": "stdout",
     "output_type": "stream",
     "text": [
      "  lead_score: 0.618\n",
      "  number_of_courses_viewed: 0.752\n",
      "  interaction_count: 0.706\n",
      "  annual_income: 0.567\n"
     ]
    }
   ],
   "source": [
    "features = ['lead_score', 'number_of_courses_viewed', 'interaction_count', 'annual_income']\n",
    "auc_scores = {}\n",
    "\n",
    "for v in features:\n",
    "    vals = df_train[v].values\n",
    "    auc = roc_auc_score(df_train['converted'], vals)\n",
    "    if auc < 0.5:\n",
    "        auc = roc_auc_score(df_train['converted'], -vals)\n",
    "    auc_scores[v] = auc\n",
    "\n",
    "for f, s in auc_scores.items():\n",
    "    print(f\"  {f}: {s:.3f}\")\n"
   ]
  },
  {
   "cell_type": "code",
   "execution_count": 12,
   "id": "7a345d1d-d910-4f06-8a3b-3760ddddbe56",
   "metadata": {},
   "outputs": [
    {
     "data": {
      "text/plain": [
       "'number_of_courses_viewed'"
      ]
     },
     "execution_count": 12,
     "metadata": {},
     "output_type": "execute_result"
    }
   ],
   "source": [
    "best_var = max(auc_scores, key=auc_scores.get)\n",
    "best_var"
   ]
  },
  {
   "cell_type": "markdown",
   "id": "448c22de-1a7e-43b8-84e3-454906226ff9",
   "metadata": {},
   "source": [
    "### Best AUC is number of course viewed"
   ]
  },
  {
   "cell_type": "code",
   "execution_count": 13,
   "id": "e526a09f-3624-4d84-b0cc-0697323639a1",
   "metadata": {},
   "outputs": [],
   "source": [
    "dv = DictVectorizer(sparse=False)\n",
    "train_dict = df_train.drop('converted', axis=1).to_dict(orient='records')\n",
    "val_dict = df_val.drop('converted', axis=1).to_dict(orient='records')"
   ]
  },
  {
   "cell_type": "code",
   "execution_count": 14,
   "id": "20f3d9e8-cd9e-4fc9-96e5-ea67462ed019",
   "metadata": {},
   "outputs": [],
   "source": [
    "X_trainain = dv.fit_transform(train_dict)\n",
    "X_val = dv.transform(val_dict)\n",
    "y_trainain = df_train['converted'].values\n",
    "y_val = df_val['converted'].values"
   ]
  },
  {
   "cell_type": "code",
   "execution_count": 15,
   "id": "6b9042ac-f012-44fa-8ba2-ca25f432183b",
   "metadata": {},
   "outputs": [
    {
     "data": {
      "text/plain": [
       "np.float64(0.9)"
      ]
     },
     "execution_count": 15,
     "metadata": {},
     "output_type": "execute_result"
    }
   ],
   "source": [
    "model = LogisticRegression(solver='liblinear', C=1.0, max_iter=1000, random_state=1)\n",
    "model.fit(X_trainain, y_trainain)\n",
    "y_pred = model.predict_proba(X_val)[:, 1]\n",
    "val_auc = roc_auc_score(y_val, y_pred)\n",
    "round(val_auc, 3)"
   ]
  },
  {
   "cell_type": "markdown",
   "id": "96af8718-b7ec-4e80-a884-0b4ee4b7b96c",
   "metadata": {},
   "source": [
    "### the AUC of this model on the validation dataset is 0.9"
   ]
  },
  {
   "cell_type": "code",
   "execution_count": 16,
   "id": "a50d4414-c626-46c1-b132-ea7f41f2f01c",
   "metadata": {},
   "outputs": [],
   "source": [
    "thresholds = np.arange(0.0, 1.01, 0.01)\n",
    "precisions = []\n",
    "recalls   = []\n",
    "\n",
    "for t in thresholds:\n",
    "    preds = (y_pred >= t).astype(int)\n",
    "    precisions.append(precision_score(y_val, preds, zero_division=0))\n",
    "    recalls.append(recall_score(y_val, preds))\n",
    "\n"
   ]
  },
  {
   "cell_type": "code",
   "execution_count": 17,
   "id": "082e324a-4e6d-4a06-94e7-fe9dc48fb900",
   "metadata": {},
   "outputs": [
    {
     "data": {
      "image/png": "[encoded data removed]",
      "text/plain": [
       "<Figure size 600x400 with 1 Axes>"
      ]
     },
     "metadata": {},
     "output_type": "display_data"
    }
   ],
   "source": [
    "plt.figure(figsize=(6, 4))\n",
    "plt.plot(thresholds, precisions, label='Precision')\n",
    "plt.plot(thresholds, recalls, label='Recall')\n",
    "plt.xlabel('Threshold')\n",
    "plt.ylabel('Score')\n",
    "plt.legend()\n",
    "plt.title('Precision vs Recall')\n",
    "plt.show()"
   ]
  },
  {
   "cell_type": "code",
   "execution_count": 18,
   "id": "8fc68a02-18d7-4817-b3e6-9b769abfdff8",
   "metadata": {},
   "outputs": [
    {
     "data": {
      "text/plain": [
       "np.float64(0.81)"
      ]
     },
     "execution_count": 18,
     "metadata": {},
     "output_type": "execute_result"
    }
   ],
   "source": [
    "diff = np.abs(np.array(precisions) - np.array(recalls))\n",
    "best_idx = np.argmin(diff)\n",
    "best_threshold = thresholds[best_idx]\n",
    "round(best_threshold,3)"
   ]
  },
  {
   "cell_type": "markdown",
   "id": "7f45cfd2-b3ed-4df1-ba47-ca3da8d86739",
   "metadata": {},
   "source": [
    "### threshold precision and recall curves intersect at 0.81"
   ]
  },
  {
   "cell_type": "code",
   "execution_count": 19,
   "id": "15e56655-237b-4781-854f-653dde27ba53",
   "metadata": {},
   "outputs": [
    {
     "data": {
      "text/plain": [
       "np.float64(0.863)"
      ]
     },
     "execution_count": 19,
     "metadata": {},
     "output_type": "execute_result"
    }
   ],
   "source": [
    "f1_scores = [2*p*r/(p+r) if (p+r) > 0 else 0 for p, r in zip(precisions, recalls)]\n",
    "best_f1_t = thresholds[np.argmax(f1_scores)]\n",
    "best_f1 = np.max(f1_scores)\n",
    "round(best_f1, 3)"
   ]
  },
  {
   "cell_type": "code",
   "execution_count": 20,
   "id": "4137d974-84d5-458e-a0df-040bf6b2963d",
   "metadata": {},
   "outputs": [
    {
     "data": {
      "image/png": "[encoded data removed]",
      "text/plain": [
       "<Figure size 600x400 with 1 Axes>"
      ]
     },
     "metadata": {},
     "output_type": "display_data"
    }
   ],
   "source": [
    "plt.figure(figsize=(6, 4))\n",
    "plt.plot(thresholds, f1_scores, color='purple')\n",
    "plt.xlabel('Threshold')\n",
    "plt.ylabel('F1 Score')\n",
    "plt.title('F1 vs Threshold')\n",
    "plt.show()"
   ]
  },
  {
   "cell_type": "markdown",
   "id": "6c1b4b5f-d5af-4e91-a2b5-e39bb2197408",
   "metadata": {},
   "source": [
    "### threshold F1 is maximal :0.6"
   ]
  },
  {
   "cell_type": "code",
   "execution_count": 21,
   "id": "b58ff7a0-3995-4759-a739-5dd99d4ea8da",
   "metadata": {},
   "outputs": [
    {
     "data": {
      "text/plain": [
       "np.float64(0.029)"
      ]
     },
     "execution_count": 21,
     "metadata": {},
     "output_type": "execute_result"
    }
   ],
   "source": [
    "kf = KFold(n_splits=5, shuffle=True, random_state=1)\n",
    "aucs = []\n",
    "for train_idx, val_idx in kf.split(df_full_train):\n",
    "    train = df_full_train.iloc[train_idx]\n",
    "    validation = df_full_train.iloc[val_idx]\n",
    "    dv_fold = DictVectorizer(sparse=False)\n",
    "    X_train = dv_fold.fit_transform(train.drop('converted', axis=1).to_dict(orient='records'))\n",
    "    X_val = dv_fold.transform(validation.drop('converted', axis=1).to_dict(orient='records'))\n",
    "    y_train = train['converted'].values\n",
    "    y_val = validation['converted'].values\n",
    "\n",
    "    model = LogisticRegression(solver='liblinear', C=1.0, max_iter=1000)\n",
    "    model.fit(X_train, y_train)\n",
    "    y_pred = model.predict_proba(X_val)[:, 1]\n",
    "    aucs.append(roc_auc_score(y_val, y_pred))\n",
    "\n",
    "round(np.std(aucs), 3)"
   ]
  },
  {
   "cell_type": "markdown",
   "id": "57ca1927-34a6-4b46-8d29-0266d562dbe8",
   "metadata": {},
   "source": [
    "### the large standard deviation of the scores across different folds is 0.029"
   ]
  },
  {
   "cell_type": "code",
   "execution_count": 22,
   "id": "703a69df-fe63-4e48-a602-c579557b2a79",
   "metadata": {},
   "outputs": [
    {
     "name": "stdout",
     "output_type": "stream",
     "text": [
      "C=1e-06: mean=0.561, std=0.035\n",
      "C=0.001: mean=0.86, std=0.026\n",
      "C=1: mean=0.817, std=0.029\n"
     ]
    },
    {
     "data": {
      "text/plain": [
       "0.001"
      ]
     },
     "execution_count": 22,
     "metadata": {},
     "output_type": "execute_result"
    }
   ],
   "source": [
    "C_values = [0.000001, 0.001, 1]\n",
    "results = {}\n",
    "for C in C_values:\n",
    "    scores = []\n",
    "    for train_idx, val_idx in kf.split(df_full_train):\n",
    "        train = df_full_train.iloc[train_idx]\n",
    "        validation = df_full_train.iloc[val_idx]\n",
    "        dv_fold = DictVectorizer(sparse=False)\n",
    "        X_train = dv_fold.fit_transform(train.drop('converted', axis=1).to_dict(orient='records'))\n",
    "        X_val = dv_fold.transform(validation.drop('converted', axis=1).to_dict(orient='records'))\n",
    "        y_train = train['converted'].values\n",
    "        y_val = validation['converted'].values\n",
    "\n",
    "        model = LogisticRegression(solver='liblinear', C=C, max_iter=1000)\n",
    "        model.fit(X_train, y_train)\n",
    "        y_pred = model.predict_proba(X_val)[:, 1]\n",
    "        scores.append(roc_auc_score(y_val, y_pred))\n",
    "    results[C] = (np.mean(scores), np.std(scores))\n",
    "\n",
    "for C, (mean_auc, std_auc) in results.items():\n",
    "    print(f\"C={C}: mean={round(mean_auc,3)}, std={round(std_auc,3)}\")\n",
    "\n",
    "best_C = max(results, key=lambda c: (results[c][0], -results[c][1], -c))\n",
    "best_C"
   ]
  },
  {
   "cell_type": "markdown",
   "id": "2025ffa1-5b00-4577-8bcb-ce89bf3b541b",
   "metadata": {},
   "source": [
    "### C leads to the best mean score is 0.001"
   ]
  },
  {
   "cell_type": "code",
   "execution_count": null,
   "id": "3721d958-969d-4ec9-9fe5-f54a1985e9d2",
   "metadata": {},
   "outputs": [],
   "source": []
  }
 ],
 "metadata": {
  "kernelspec": {
   "display_name": "Python 3 (ipykernel)",
   "language": "python",
   "name": "python3"
  },
  "language_info": {
   "codemirror_mode": {
    "name": "ipython",
    "version": 3
   },
   "file_extension": ".py",
   "mimetype": "text/x-python",
   "name": "python",
   "nbconvert_exporter": "python",
   "pygments_lexer": "ipython3",
   "version": "3.13.5"
  }
 },
 "nbformat": 4,
 "nbformat_minor": 5
}
